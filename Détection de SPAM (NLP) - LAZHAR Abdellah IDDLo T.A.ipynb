{
 "cells": [
  {
   "cell_type": "markdown",
   "metadata": {
    "papermill": {
     "duration": 0.022673,
     "end_time": "2021-12-09T09:39:55.828715",
     "exception": false,
     "start_time": "2021-12-09T09:39:55.806042",
     "status": "completed"
    },
    "tags": []
   },
   "source": [
    "# Mini Projet NLP : Classification des mails \"SPAM ou HAM\""
   ]
  },
  {
   "cell_type": "code",
   "execution_count": 2,
   "metadata": {
    "execution": {
     "iopub.execute_input": "2021-12-09T09:39:55.942880Z",
     "iopub.status.busy": "2021-12-09T09:39:55.942121Z",
     "iopub.status.idle": "2021-12-09T09:39:57.931035Z",
     "shell.execute_reply": "2021-12-09T09:39:57.930395Z",
     "shell.execute_reply.started": "2021-12-09T09:30:31.753769Z"
    },
    "papermill": {
     "duration": 2.012765,
     "end_time": "2021-12-09T09:39:57.931218",
     "exception": false,
     "start_time": "2021-12-09T09:39:55.918453",
     "status": "completed"
    },
    "tags": []
   },
   "outputs": [],
   "source": [
    "# importation des libraries nécessaires\n",
    "import numpy as np\n",
    "import pandas as pd\n",
    "import matplotlib.pyplot as plt\n",
    "import seaborn as sns\n",
    "import re # regex\n",
    "import nltk\n",
    "\n",
    "from sklearn.preprocessing import LabelEncoder\n",
    "from sklearn.model_selection import train_test_split\n",
    "from sklearn.naive_bayes import MultinomialNB\n",
    "from sklearn.ensemble import RandomForestClassifier\n",
    "from sklearn.svm import SVC\n",
    "from sklearn.neighbors import KNeighborsClassifier\n",
    "from sklearn.feature_extraction.text import CountVectorizer\n",
    "from sklearn.model_selection import cross_val_score\n",
    "from sklearn.metrics import accuracy_score, confusion_matrix, classification_report, precision_score, recall_score, f1_score"
   ]
  },
  {
   "cell_type": "code",
   "execution_count": 3,
   "metadata": {
    "execution": {
     "iopub.execute_input": "2021-12-09T09:39:57.980139Z",
     "iopub.status.busy": "2021-12-09T09:39:57.979387Z",
     "iopub.status.idle": "2021-12-09T09:39:58.041149Z",
     "shell.execute_reply": "2021-12-09T09:39:58.040541Z",
     "shell.execute_reply.started": "2021-12-09T09:30:31.767582Z"
    },
    "papermill": {
     "duration": 0.085882,
     "end_time": "2021-12-09T09:39:58.041302",
     "exception": false,
     "start_time": "2021-12-09T09:39:57.955420",
     "status": "completed"
    },
    "tags": []
   },
   "outputs": [
    {
     "name": "stdout",
     "output_type": "stream",
     "text": [
      "<class 'pandas.core.frame.DataFrame'>\n",
      "RangeIndex: 5572 entries, 0 to 5571\n",
      "Data columns (total 5 columns):\n",
      " #   Column      Non-Null Count  Dtype \n",
      "---  ------      --------------  ----- \n",
      " 0   v1          5572 non-null   object\n",
      " 1   v2          5572 non-null   object\n",
      " 2   Unnamed: 2  50 non-null     object\n",
      " 3   Unnamed: 3  12 non-null     object\n",
      " 4   Unnamed: 4  6 non-null      object\n",
      "dtypes: object(5)\n",
      "memory usage: 217.8+ KB\n"
     ]
    }
   ],
   "source": [
    "# Chargement du dataset\n",
    "data = pd.read_csv('spam.csv', encoding=\"ISO-8859-1\")\n",
    "\n",
    "# Vérification des informations du dataset\n",
    "data.info()"
   ]
  },
  {
   "cell_type": "code",
   "execution_count": 4,
   "metadata": {
    "execution": {
     "iopub.execute_input": "2021-12-09T09:39:58.093995Z",
     "iopub.status.busy": "2021-12-09T09:39:58.093211Z",
     "iopub.status.idle": "2021-12-09T09:39:58.096810Z",
     "shell.execute_reply": "2021-12-09T09:39:58.096212Z",
     "shell.execute_reply.started": "2021-12-09T09:30:31.804750Z"
    },
    "papermill": {
     "duration": 0.032924,
     "end_time": "2021-12-09T09:39:58.096964",
     "exception": false,
     "start_time": "2021-12-09T09:39:58.064040",
     "status": "completed"
    },
    "tags": []
   },
   "outputs": [],
   "source": [
    "# Suppression des colonnes inutiles et mise à jour des noms des colonnes\n",
    "data.rename(columns={'v1':'label','v2':'mail'}, inplace=True)\n",
    "data.drop(['Unnamed: 2','Unnamed: 3','Unnamed: 4'], axis=1, inplace=True)"
   ]
  },
  {
   "cell_type": "code",
   "execution_count": 5,
   "metadata": {
    "execution": {
     "iopub.execute_input": "2021-12-09T09:39:58.144261Z",
     "iopub.status.busy": "2021-12-09T09:39:58.143483Z",
     "iopub.status.idle": "2021-12-09T09:39:58.160573Z",
     "shell.execute_reply": "2021-12-09T09:39:58.161145Z",
     "shell.execute_reply.started": "2021-12-09T09:30:31.814563Z"
    },
    "papermill": {
     "duration": 0.042152,
     "end_time": "2021-12-09T09:39:58.161318",
     "exception": false,
     "start_time": "2021-12-09T09:39:58.119166",
     "status": "completed"
    },
    "tags": []
   },
   "outputs": [
    {
     "data": {
      "text/html": [
       "<div>\n",
       "<style scoped>\n",
       "    .dataframe tbody tr th:only-of-type {\n",
       "        vertical-align: middle;\n",
       "    }\n",
       "\n",
       "    .dataframe tbody tr th {\n",
       "        vertical-align: top;\n",
       "    }\n",
       "\n",
       "    .dataframe thead th {\n",
       "        text-align: right;\n",
       "    }\n",
       "</style>\n",
       "<table border=\"1\" class=\"dataframe\">\n",
       "  <thead>\n",
       "    <tr style=\"text-align: right;\">\n",
       "      <th></th>\n",
       "      <th>label</th>\n",
       "      <th>mail</th>\n",
       "    </tr>\n",
       "  </thead>\n",
       "  <tbody>\n",
       "    <tr>\n",
       "      <th>0</th>\n",
       "      <td>ham</td>\n",
       "      <td>Go until jurong point, crazy.. Available only ...</td>\n",
       "    </tr>\n",
       "    <tr>\n",
       "      <th>1</th>\n",
       "      <td>ham</td>\n",
       "      <td>Ok lar... Joking wif u oni...</td>\n",
       "    </tr>\n",
       "    <tr>\n",
       "      <th>2</th>\n",
       "      <td>spam</td>\n",
       "      <td>Free entry in 2 a wkly comp to win FA Cup fina...</td>\n",
       "    </tr>\n",
       "    <tr>\n",
       "      <th>3</th>\n",
       "      <td>ham</td>\n",
       "      <td>U dun say so early hor... U c already then say...</td>\n",
       "    </tr>\n",
       "    <tr>\n",
       "      <th>4</th>\n",
       "      <td>ham</td>\n",
       "      <td>Nah I don't think he goes to usf, he lives aro...</td>\n",
       "    </tr>\n",
       "  </tbody>\n",
       "</table>\n",
       "</div>"
      ],
      "text/plain": [
       "  label                                               mail\n",
       "0   ham  Go until jurong point, crazy.. Available only ...\n",
       "1   ham                      Ok lar... Joking wif u oni...\n",
       "2  spam  Free entry in 2 a wkly comp to win FA Cup fina...\n",
       "3   ham  U dun say so early hor... U c already then say...\n",
       "4   ham  Nah I don't think he goes to usf, he lives aro..."
      ]
     },
     "execution_count": 5,
     "metadata": {},
     "output_type": "execute_result"
    }
   ],
   "source": [
    "# Affichage d'un aperçu du DataSet\n",
    "data.head()"
   ]
  },
  {
   "cell_type": "code",
   "execution_count": 6,
   "metadata": {
    "execution": {
     "iopub.execute_input": "2021-12-09T09:39:58.208727Z",
     "iopub.status.busy": "2021-12-09T09:39:58.208047Z",
     "iopub.status.idle": "2021-12-09T09:39:58.217623Z",
     "shell.execute_reply": "2021-12-09T09:39:58.218223Z",
     "shell.execute_reply.started": "2021-12-09T09:30:31.834049Z"
    },
    "papermill": {
     "duration": 0.035326,
     "end_time": "2021-12-09T09:39:58.218397",
     "exception": false,
     "start_time": "2021-12-09T09:39:58.183071",
     "status": "completed"
    },
    "tags": []
   },
   "outputs": [
    {
     "data": {
      "text/plain": [
       "403"
      ]
     },
     "execution_count": 6,
     "metadata": {},
     "output_type": "execute_result"
    }
   ],
   "source": [
    "# Vérification des redondances\n",
    "data.duplicated().sum()"
   ]
  },
  {
   "cell_type": "code",
   "execution_count": 7,
   "metadata": {
    "execution": {
     "iopub.execute_input": "2021-12-09T09:39:58.266327Z",
     "iopub.status.busy": "2021-12-09T09:39:58.265577Z",
     "iopub.status.idle": "2021-12-09T09:39:58.282214Z",
     "shell.execute_reply": "2021-12-09T09:39:58.282836Z",
     "shell.execute_reply.started": "2021-12-09T09:30:31.848029Z"
    },
    "papermill": {
     "duration": 0.042301,
     "end_time": "2021-12-09T09:39:58.283037",
     "exception": false,
     "start_time": "2021-12-09T09:39:58.240736",
     "status": "completed"
    },
    "scrolled": false,
    "tags": []
   },
   "outputs": [
    {
     "name": "stdout",
     "output_type": "stream",
     "text": [
      "<class 'pandas.core.frame.DataFrame'>\n",
      "Int64Index: 5169 entries, 0 to 5571\n",
      "Data columns (total 2 columns):\n",
      " #   Column  Non-Null Count  Dtype \n",
      "---  ------  --------------  ----- \n",
      " 0   label   5169 non-null   object\n",
      " 1   mail    5169 non-null   object\n",
      "dtypes: object(2)\n",
      "memory usage: 121.1+ KB\n"
     ]
    }
   ],
   "source": [
    "# Suppression des redondances\n",
    "data.drop_duplicates(inplace=True)\n",
    "\n",
    "data.info()"
   ]
  },
  {
   "cell_type": "code",
   "execution_count": 9,
   "metadata": {
    "execution": {
     "iopub.execute_input": "2021-12-09T09:39:58.342532Z",
     "iopub.status.busy": "2021-12-09T09:39:58.340232Z",
     "iopub.status.idle": "2021-12-09T09:39:58.549449Z",
     "shell.execute_reply": "2021-12-09T09:39:58.548802Z",
     "shell.execute_reply.started": "2021-12-09T09:30:31.871203Z"
    },
    "papermill": {
     "duration": 0.244039,
     "end_time": "2021-12-09T09:39:58.549589",
     "exception": false,
     "start_time": "2021-12-09T09:39:58.305550",
     "status": "completed"
    },
    "scrolled": false,
    "tags": []
   },
   "outputs": [
    {
     "name": "stdout",
     "output_type": "stream",
     "text": [
      "ham     4516\n",
      "spam     653\n",
      "Name: label, dtype: int64\n"
     ]
    },
    {
     "data": {
      "text/plain": [
       "<AxesSubplot:xlabel='label', ylabel='count'>"
      ]
     },
     "execution_count": 9,
     "metadata": {},
     "output_type": "execute_result"
    },
    {
     "data": {
      "image/png": "[encoded data removed]",
      "text/plain": [
       "<Figure size 432x288 with 1 Axes>"
      ]
     },
     "metadata": {
      "needs_background": "light"
     },
     "output_type": "display_data"
    }
   ],
   "source": [
    "# Vérification de l'équilibrage des données\n",
    "print(data.label.value_counts())\n",
    "# Puis sous forme d'un Graphe\n",
    "sns.countplot(x='label', data=data)"
   ]
  },
  {
   "cell_type": "code",
   "execution_count": 11,
   "metadata": {
    "execution": {
     "iopub.execute_input": "2021-12-09T09:39:58.610335Z",
     "iopub.status.busy": "2021-12-09T09:39:58.609539Z",
     "iopub.status.idle": "2021-12-09T09:40:00.645098Z",
     "shell.execute_reply": "2021-12-09T09:40:00.644482Z",
     "shell.execute_reply.started": "2021-12-09T09:30:32.065071Z"
    },
    "papermill": {
     "duration": 2.071076,
     "end_time": "2021-12-09T09:40:00.645246",
     "exception": false,
     "start_time": "2021-12-09T09:39:58.574170",
     "status": "completed"
    },
    "tags": []
   },
   "outputs": [
    {
     "data": {
      "text/html": [
       "<div>\n",
       "<style scoped>\n",
       "    .dataframe tbody tr th:only-of-type {\n",
       "        vertical-align: middle;\n",
       "    }\n",
       "\n",
       "    .dataframe tbody tr th {\n",
       "        vertical-align: top;\n",
       "    }\n",
       "\n",
       "    .dataframe thead th {\n",
       "        text-align: right;\n",
       "    }\n",
       "</style>\n",
       "<table border=\"1\" class=\"dataframe\">\n",
       "  <thead>\n",
       "    <tr style=\"text-align: right;\">\n",
       "      <th></th>\n",
       "      <th>N° de caractères</th>\n",
       "      <th>N° de mots</th>\n",
       "      <th>N° de phrases</th>\n",
       "    </tr>\n",
       "  </thead>\n",
       "  <tbody>\n",
       "    <tr>\n",
       "      <th>count</th>\n",
       "      <td>5169.000000</td>\n",
       "      <td>5169.000000</td>\n",
       "      <td>5169.000000</td>\n",
       "    </tr>\n",
       "    <tr>\n",
       "      <th>mean</th>\n",
       "      <td>78.977945</td>\n",
       "      <td>18.455407</td>\n",
       "      <td>1.961308</td>\n",
       "    </tr>\n",
       "    <tr>\n",
       "      <th>std</th>\n",
       "      <td>58.236293</td>\n",
       "      <td>13.322448</td>\n",
       "      <td>1.432583</td>\n",
       "    </tr>\n",
       "    <tr>\n",
       "      <th>min</th>\n",
       "      <td>2.000000</td>\n",
       "      <td>1.000000</td>\n",
       "      <td>1.000000</td>\n",
       "    </tr>\n",
       "    <tr>\n",
       "      <th>25%</th>\n",
       "      <td>36.000000</td>\n",
       "      <td>9.000000</td>\n",
       "      <td>1.000000</td>\n",
       "    </tr>\n",
       "    <tr>\n",
       "      <th>50%</th>\n",
       "      <td>60.000000</td>\n",
       "      <td>15.000000</td>\n",
       "      <td>1.000000</td>\n",
       "    </tr>\n",
       "    <tr>\n",
       "      <th>75%</th>\n",
       "      <td>117.000000</td>\n",
       "      <td>26.000000</td>\n",
       "      <td>2.000000</td>\n",
       "    </tr>\n",
       "    <tr>\n",
       "      <th>max</th>\n",
       "      <td>910.000000</td>\n",
       "      <td>220.000000</td>\n",
       "      <td>38.000000</td>\n",
       "    </tr>\n",
       "  </tbody>\n",
       "</table>\n",
       "</div>"
      ],
      "text/plain": [
       "       N° de caractères   N° de mots  N° de phrases\n",
       "count       5169.000000  5169.000000    5169.000000\n",
       "mean          78.977945    18.455407       1.961308\n",
       "std           58.236293    13.322448       1.432583\n",
       "min            2.000000     1.000000       1.000000\n",
       "25%           36.000000     9.000000       1.000000\n",
       "50%           60.000000    15.000000       1.000000\n",
       "75%          117.000000    26.000000       2.000000\n",
       "max          910.000000   220.000000      38.000000"
      ]
     },
     "execution_count": 11,
     "metadata": {},
     "output_type": "execute_result"
    }
   ],
   "source": [
    "# Création de caractéristiques\n",
    "data['N° de caractères'] = data.mail.apply(lambda x: len(x))\n",
    "data['N° de mots'] = data.mail.apply(lambda x: len(nltk.word_tokenize(x)))\n",
    "data['N° de phrases'] = data.mail.apply(lambda x: len(nltk.sent_tokenize(x)))\n",
    "\n",
    "data.describe()"
   ]
  },
  {
   "cell_type": "code",
   "execution_count": 12,
   "metadata": {
    "execution": {
     "iopub.execute_input": "2021-12-09T09:40:00.697602Z",
     "iopub.status.busy": "2021-12-09T09:40:00.696960Z",
     "iopub.status.idle": "2021-12-09T09:40:06.006882Z",
     "shell.execute_reply": "2021-12-09T09:40:06.007459Z",
     "shell.execute_reply.started": "2021-12-09T09:30:34.072263Z"
    },
    "papermill": {
     "duration": 5.337637,
     "end_time": "2021-12-09T09:40:06.007639",
     "exception": false,
     "start_time": "2021-12-09T09:40:00.670002",
     "status": "completed"
    },
    "tags": []
   },
   "outputs": [
    {
     "data": {
      "text/plain": [
       "<seaborn.axisgrid.PairGrid at 0x1536fa6aac0>"
      ]
     },
     "execution_count": 12,
     "metadata": {},
     "output_type": "execute_result"
    },
    {
     "data": {
      "image/png": "[encoded data removed]",
      "text/plain": [
       "<Figure size 603.25x540 with 12 Axes>"
      ]
     },
     "metadata": {
      "needs_background": "light"
     },
     "output_type": "display_data"
    }
   ],
   "source": [
    "sns.pairplot(data, hue='label')"
   ]
  },
  {
   "cell_type": "code",
   "execution_count": 13,
   "metadata": {
    "execution": {
     "iopub.execute_input": "2021-12-09T09:40:06.120036Z",
     "iopub.status.busy": "2021-12-09T09:40:06.119388Z",
     "iopub.status.idle": "2021-12-09T09:40:06.125475Z",
     "shell.execute_reply": "2021-12-09T09:40:06.126110Z",
     "shell.execute_reply.started": "2021-12-09T09:30:39.586842Z"
    },
    "papermill": {
     "duration": 0.036853,
     "end_time": "2021-12-09T09:40:06.126282",
     "exception": false,
     "start_time": "2021-12-09T09:40:06.089429",
     "status": "completed"
    },
    "tags": []
   },
   "outputs": [],
   "source": [
    "# Encodage de la colonne label\n",
    "le = LabelEncoder()\n",
    "data['label'] = le.fit_transform(data['label'])"
   ]
  },
  {
   "cell_type": "code",
   "execution_count": 14,
   "metadata": {
    "execution": {
     "iopub.execute_input": "2021-12-09T09:40:06.184130Z",
     "iopub.status.busy": "2021-12-09T09:40:06.183408Z",
     "iopub.status.idle": "2021-12-09T09:40:06.259563Z",
     "shell.execute_reply": "2021-12-09T09:40:06.260177Z",
     "shell.execute_reply.started": "2021-12-09T09:30:39.609602Z"
    },
    "papermill": {
     "duration": 0.107058,
     "end_time": "2021-12-09T09:40:06.260359",
     "exception": false,
     "start_time": "2021-12-09T09:40:06.153301",
     "status": "completed"
    },
    "tags": []
   },
   "outputs": [],
   "source": [
    "# Fonction de Nettoyage du message\n",
    "\n",
    "def cleanText(text):\n",
    "    # Conversion en miniscules\n",
    "    mail = text.lower()\n",
    "    # Suppression des caractères non alpha-numeriques\n",
    "    mail = re.sub('[^0-9a-z]',' ',mail)\n",
    "    # Division \n",
    "    mail = mail.split()\n",
    "    # Jointure des mots avec des espaces\n",
    "    mail = ' '.join(mail)\n",
    "    return mail\n",
    "\n",
    "\n",
    "data['cleanMail'] = data['mail'].apply(cleanText)"
   ]
  },
  {
   "cell_type": "code",
   "execution_count": 17,
   "metadata": {
    "execution": {
     "iopub.execute_input": "2021-12-09T09:40:06.375391Z",
     "iopub.status.busy": "2021-12-09T09:40:06.374573Z",
     "iopub.status.idle": "2021-12-09T09:40:06.380249Z",
     "shell.execute_reply": "2021-12-09T09:40:06.380919Z",
     "shell.execute_reply.started": "2021-12-09T09:30:39.696050Z"
    },
    "papermill": {
     "duration": 0.037158,
     "end_time": "2021-12-09T09:40:06.381112",
     "exception": false,
     "start_time": "2021-12-09T09:40:06.343954",
     "status": "completed"
    },
    "tags": []
   },
   "outputs": [],
   "source": [
    "# Suppression des colonnes inutiles\n",
    "data = data.drop(['mail','N° de caractères','N° de mots','N° de phrases'], axis=1)"
   ]
  },
  {
   "cell_type": "code",
   "execution_count": 18,
   "metadata": {
    "execution": {
     "iopub.execute_input": "2021-12-09T09:40:06.442125Z",
     "iopub.status.busy": "2021-12-09T09:40:06.441432Z",
     "iopub.status.idle": "2021-12-09T09:40:06.443334Z",
     "shell.execute_reply": "2021-12-09T09:40:06.443941Z",
     "shell.execute_reply.started": "2021-12-09T09:30:39.703956Z"
    },
    "papermill": {
     "duration": 0.035481,
     "end_time": "2021-12-09T09:40:06.444114",
     "exception": false,
     "start_time": "2021-12-09T09:40:06.408633",
     "status": "completed"
    },
    "tags": []
   },
   "outputs": [],
   "source": [
    "# Copie du DataSet pour CountVectorizer\n",
    "cvdf = data.copy()\n",
    "# Copie du DataSet pour le traitement étape par étape\n",
    "df = data.copy()"
   ]
  },
  {
   "cell_type": "code",
   "execution_count": 20,
   "metadata": {
    "execution": {
     "iopub.execute_input": "2021-12-09T09:40:06.502995Z",
     "iopub.status.busy": "2021-12-09T09:40:06.502216Z",
     "iopub.status.idle": "2021-12-09T09:40:06.506413Z",
     "shell.execute_reply": "2021-12-09T09:40:06.507032Z",
     "shell.execute_reply.started": "2021-12-09T09:30:39.736735Z"
    },
    "papermill": {
     "duration": 0.034833,
     "end_time": "2021-12-09T09:40:06.507218",
     "exception": false,
     "start_time": "2021-12-09T09:40:06.472385",
     "status": "completed"
    },
    "tags": []
   },
   "outputs": [],
   "source": [
    "# Separation des caractéristiques\n",
    "X = cvdf['cleanMail']\n",
    "y = cvdf['label']"
   ]
  },
  {
   "cell_type": "code",
   "execution_count": 21,
   "metadata": {
    "execution": {
     "iopub.execute_input": "2021-12-09T09:40:06.565264Z",
     "iopub.status.busy": "2021-12-09T09:40:06.564556Z",
     "iopub.status.idle": "2021-12-09T09:40:06.707417Z",
     "shell.execute_reply": "2021-12-09T09:40:06.706533Z",
     "shell.execute_reply.started": "2021-12-09T09:30:39.747494Z"
    },
    "papermill": {
     "duration": 0.173084,
     "end_time": "2021-12-09T09:40:06.707589",
     "exception": false,
     "start_time": "2021-12-09T09:40:06.534505",
     "status": "completed"
    },
    "tags": []
   },
   "outputs": [],
   "source": [
    "# Application du CountVectorizer\n",
    "cv = CountVectorizer()\n",
    "cvdf = cv.fit_transform(X)"
   ]
  },
  {
   "cell_type": "code",
   "execution_count": 22,
   "metadata": {
    "execution": {
     "iopub.execute_input": "2021-12-09T09:40:06.768875Z",
     "iopub.status.busy": "2021-12-09T09:40:06.768066Z",
     "iopub.status.idle": "2021-12-09T09:40:06.770916Z",
     "shell.execute_reply": "2021-12-09T09:40:06.771408Z",
     "shell.execute_reply.started": "2021-12-09T09:30:39.916331Z"
    },
    "papermill": {
     "duration": 0.035851,
     "end_time": "2021-12-09T09:40:06.771579",
     "exception": false,
     "start_time": "2021-12-09T09:40:06.735728",
     "status": "completed"
    },
    "tags": []
   },
   "outputs": [
    {
     "name": "stdout",
     "output_type": "stream",
     "text": [
      "(5169, 8622)\n",
      "(5169,)\n"
     ]
    }
   ],
   "source": [
    "print(cvdf.shape)\n",
    "print(y.shape)"
   ]
  },
  {
   "cell_type": "code",
   "execution_count": 23,
   "metadata": {
    "execution": {
     "iopub.execute_input": "2021-12-09T09:40:06.830224Z",
     "iopub.status.busy": "2021-12-09T09:40:06.829534Z",
     "iopub.status.idle": "2021-12-09T09:40:06.839085Z",
     "shell.execute_reply": "2021-12-09T09:40:06.839584Z",
     "shell.execute_reply.started": "2021-12-09T09:30:39.931158Z"
    },
    "papermill": {
     "duration": 0.040487,
     "end_time": "2021-12-09T09:40:06.839797",
     "exception": false,
     "start_time": "2021-12-09T09:40:06.799310",
     "status": "completed"
    },
    "tags": []
   },
   "outputs": [],
   "source": [
    "# Division du DataSet en Train Data et Test Data\n",
    "X_train, X_test, y_train, y_test = train_test_split(cvdf, y, test_size=0.3, random_state=42)"
   ]
  },
  {
   "cell_type": "code",
   "execution_count": 25,
   "metadata": {
    "execution": {
     "iopub.execute_input": "2021-12-09T09:40:06.898137Z",
     "iopub.status.busy": "2021-12-09T09:40:06.897450Z",
     "iopub.status.idle": "2021-12-09T09:40:06.955221Z",
     "shell.execute_reply": "2021-12-09T09:40:06.955762Z",
     "shell.execute_reply.started": "2021-12-09T09:30:39.951837Z"
    },
    "papermill": {
     "duration": 0.088784,
     "end_time": "2021-12-09T09:40:06.955958",
     "exception": false,
     "start_time": "2021-12-09T09:40:06.867174",
     "status": "completed"
    },
    "tags": []
   },
   "outputs": [
    {
     "name": "stdout",
     "output_type": "stream",
     "text": [
      "0.9789932814006519\n",
      "              precision    recall  f1-score   support\n",
      "\n",
      "           0       0.99      0.99      0.99      1331\n",
      "           1       0.94      0.93      0.93       220\n",
      "\n",
      "    accuracy                           0.98      1551\n",
      "   macro avg       0.96      0.96      0.96      1551\n",
      "weighted avg       0.98      0.98      0.98      1551\n",
      "\n"
     ]
    }
   ],
   "source": [
    "# Construction du modèle\n",
    "\n",
    "mnb = MultinomialNB()\n",
    "mnb.fit(X_train,y_train)\n",
    "\n",
    "# Vérification du Cross Validation Score\n",
    "cv_score = cross_val_score(mnb, X_train,y_train,scoring='accuracy',cv=10)\n",
    "print(cv_score.mean())\n",
    "\n",
    "# Métriques du modèle\n",
    "pred_test = mnb.predict(X_test)\n",
    "print(classification_report(y_test,pred_test))"
   ]
  },
  {
   "cell_type": "code",
   "execution_count": 28,
   "metadata": {
    "execution": {
     "iopub.execute_input": "2021-12-09T09:40:07.020622Z",
     "iopub.status.busy": "2021-12-09T09:40:07.019493Z",
     "iopub.status.idle": "2021-12-09T09:40:07.022103Z",
     "shell.execute_reply": "2021-12-09T09:40:07.022560Z",
     "shell.execute_reply.started": "2021-12-09T09:30:40.012126Z"
    },
    "papermill": {
     "duration": 0.036713,
     "end_time": "2021-12-09T09:40:07.022770",
     "exception": false,
     "start_time": "2021-12-09T09:40:06.986057",
     "status": "completed"
    },
    "tags": []
   },
   "outputs": [],
   "source": [
    "# Vérification avec de nouvelles données de Test\n",
    "\n",
    "message1 = \"Hey, call ur mom she is worried\"\n",
    "message2 = \"YOU ARE CHOSEN TO RECEIVE A £350 AWARD! Pls call claim to collect your award which you are selected to receive as a valued mobile customer.\""
   ]
  },
  {
   "cell_type": "code",
   "execution_count": 29,
   "metadata": {
    "execution": {
     "iopub.execute_input": "2021-12-09T09:40:07.085565Z",
     "iopub.status.busy": "2021-12-09T09:40:07.084904Z",
     "iopub.status.idle": "2021-12-09T09:40:07.087567Z",
     "shell.execute_reply": "2021-12-09T09:40:07.087056Z",
     "shell.execute_reply.started": "2021-12-09T09:30:40.020769Z"
    },
    "papermill": {
     "duration": 0.035785,
     "end_time": "2021-12-09T09:40:07.087741",
     "exception": false,
     "start_time": "2021-12-09T09:40:07.051956",
     "status": "completed"
    },
    "tags": []
   },
   "outputs": [],
   "source": [
    "# Pre-processing des données\n",
    "m1 = cleanText(message1)\n",
    "m2 = cleanText(message2)\n",
    "\n",
    "m1 = [m1]\n",
    "m2 = [m2]"
   ]
  },
  {
   "cell_type": "code",
   "execution_count": 30,
   "metadata": {
    "execution": {
     "iopub.execute_input": "2021-12-09T09:40:07.150445Z",
     "iopub.status.busy": "2021-12-09T09:40:07.149394Z",
     "iopub.status.idle": "2021-12-09T09:40:07.155944Z",
     "shell.execute_reply": "2021-12-09T09:40:07.155172Z",
     "shell.execute_reply.started": "2021-12-09T09:30:40.035169Z"
    },
    "papermill": {
     "duration": 0.040121,
     "end_time": "2021-12-09T09:40:07.156107",
     "exception": false,
     "start_time": "2021-12-09T09:40:07.115986",
     "status": "completed"
    },
    "tags": []
   },
   "outputs": [
    {
     "name": "stdout",
     "output_type": "stream",
     "text": [
      "[0]\n",
      "[1]\n"
     ]
    }
   ],
   "source": [
    "# Prédiction (1 pour Spam)\n",
    "print(mnb.predict(cv.transform(m1)))\n",
    "print(mnb.predict(cv.transform(m2)))"
   ]
  },
  {
   "cell_type": "markdown",
   "metadata": {
    "papermill": {
     "duration": 0.027981,
     "end_time": "2021-12-09T09:40:07.213552",
     "exception": false,
     "start_time": "2021-12-09T09:40:07.185571",
     "status": "completed"
    },
    "tags": []
   },
   "source": [
    "**Les résultats retournés indiquent que le modèle classifie les message correctement.**\n",
    "-\n",
    "-\n",
    "-\n",
    "-\n",
    "<center><b>SPAM Detection using SKLearn & NLTK - By : LAZHAR Abdellah MS:IDDL (T.A)<b><center>"
   ]
  }
 ],
 "metadata": {
  "kernelspec": {
   "display_name": "Python 3",
   "language": "python",
   "name": "python3"
  },
  "language_info": {
   "codemirror_mode": {
    "name": "ipython",
    "version": 3
   },
   "file_extension": ".py",
   "mimetype": "text/x-python",
   "name": "python",
   "nbconvert_exporter": "python",
   "pygments_lexer": "ipython3",
   "version": "3.8.3"
  },
  "papermill": {
   "default_parameters": {},
   "duration": 23.318977,
   "end_time": "2021-12-09T09:40:08.152943",
   "environment_variables": {},
   "exception": null,
   "input_path": "__notebook__.ipynb",
   "output_path": "__notebook__.ipynb",
   "parameters": {},
   "start_time": "2021-12-09T09:39:44.833966",
   "version": "2.3.3"
  }
 },
 "nbformat": 4,
 "nbformat_minor": 5
}
